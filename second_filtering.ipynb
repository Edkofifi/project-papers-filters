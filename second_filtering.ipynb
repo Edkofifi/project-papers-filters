{
 "cells": [
  {
   "cell_type": "markdown",
   "id": "1e883252",
   "metadata": {},
   "source": [
    "## Research Papers: Filtering"
   ]
  },
  {
   "cell_type": "code",
   "execution_count": 1,
   "id": "19be661d",
   "metadata": {},
   "outputs": [],
   "source": [
    "import pandas as pd\n"
   ]
  },
  {
   "cell_type": "code",
   "execution_count": 2,
   "id": "06ec971b",
   "metadata": {},
   "outputs": [
    {
     "data": {
      "text/html": [
       "<div>\n",
       "<style scoped>\n",
       "    .dataframe tbody tr th:only-of-type {\n",
       "        vertical-align: middle;\n",
       "    }\n",
       "\n",
       "    .dataframe tbody tr th {\n",
       "        vertical-align: top;\n",
       "    }\n",
       "\n",
       "    .dataframe thead th {\n",
       "        text-align: right;\n",
       "    }\n",
       "</style>\n",
       "<table border=\"1\" class=\"dataframe\">\n",
       "  <thead>\n",
       "    <tr style=\"text-align: right;\">\n",
       "      <th></th>\n",
       "      <th>Title</th>\n",
       "      <th>Authors</th>\n",
       "      <th>DOI</th>\n",
       "      <th>URLs</th>\n",
       "      <th>Notes</th>\n",
       "      <th>Abstract</th>\n",
       "    </tr>\n",
       "  </thead>\n",
       "  <tbody>\n",
       "    <tr>\n",
       "      <th>794</th>\n",
       "      <td>Podcasting in nursing and midwifery education:...</td>\n",
       "      <td>O'Connor, S; Daly, CS; MacArthur, J; Borglin, ...</td>\n",
       "      <td>10.1016/j.nepr.2020.102827</td>\n",
       "      <td>http://dx.doi.org/10.1016/j.nepr.2020.102827</td>\n",
       "      <td>NaN</td>\n",
       "      <td>Podcasting is used in higher education so vari...</td>\n",
       "    </tr>\n",
       "    <tr>\n",
       "      <th>1084</th>\n",
       "      <td>The use of gaze to control drones</td>\n",
       "      <td>Hansen J.P., Alapetite A., MacKenzie I.S., Møl...</td>\n",
       "      <td>10.1145/2578153.2578156</td>\n",
       "      <td>https://www.scopus.com/inward/record.uri?eid=2...</td>\n",
       "      <td>NaN</td>\n",
       "      <td>This paper presents an experimental investigat...</td>\n",
       "    </tr>\n",
       "    <tr>\n",
       "      <th>968</th>\n",
       "      <td>Empowerment and embodiment for collaborative m...</td>\n",
       "      <td>Pan Y,Sinclair D,Mitchell K</td>\n",
       "      <td>10.1002/cav.1838</td>\n",
       "      <td>https://onlinelibrary.wiley.com/doi/abs/10.100...</td>\n",
       "      <td>e1838 cav.1838</td>\n",
       "      <td>Abstract We present several mixed-reality-base...</td>\n",
       "    </tr>\n",
       "    <tr>\n",
       "      <th>1045</th>\n",
       "      <td>Aligning the real and the virtual world: Mixed...</td>\n",
       "      <td>Radanovic M,Khoshelham K,Fraser C</td>\n",
       "      <td>10.1016/j.aei.2023.101960</td>\n",
       "      <td>https://www.sciencedirect.com/science/article/...</td>\n",
       "      <td>NaN</td>\n",
       "      <td>Existing camera localisation methods for indoo...</td>\n",
       "    </tr>\n",
       "    <tr>\n",
       "      <th>1424</th>\n",
       "      <td>Process characterization and evaluation of NC ...</td>\n",
       "      <td>Minoufekr M., Schug P., Joshi M.</td>\n",
       "      <td>10.5220/0005054606610670</td>\n",
       "      <td>https://www.scopus.com/inward/record.uri?eid=2...</td>\n",
       "      <td>NaN</td>\n",
       "      <td>With a view to achieve stable production, nowa...</td>\n",
       "    </tr>\n",
       "  </tbody>\n",
       "</table>\n",
       "</div>"
      ],
      "text/plain": [
       "                                                  Title  \\\n",
       "794   Podcasting in nursing and midwifery education:...   \n",
       "1084                  The use of gaze to control drones   \n",
       "968   Empowerment and embodiment for collaborative m...   \n",
       "1045  Aligning the real and the virtual world: Mixed...   \n",
       "1424  Process characterization and evaluation of NC ...   \n",
       "\n",
       "                                                Authors  \\\n",
       "794   O'Connor, S; Daly, CS; MacArthur, J; Borglin, ...   \n",
       "1084  Hansen J.P., Alapetite A., MacKenzie I.S., Møl...   \n",
       "968                         Pan Y,Sinclair D,Mitchell K   \n",
       "1045                  Radanovic M,Khoshelham K,Fraser C   \n",
       "1424                   Minoufekr M., Schug P., Joshi M.   \n",
       "\n",
       "                             DOI  \\\n",
       "794   10.1016/j.nepr.2020.102827   \n",
       "1084     10.1145/2578153.2578156   \n",
       "968             10.1002/cav.1838   \n",
       "1045   10.1016/j.aei.2023.101960   \n",
       "1424    10.5220/0005054606610670   \n",
       "\n",
       "                                                   URLs           Notes  \\\n",
       "794        http://dx.doi.org/10.1016/j.nepr.2020.102827             NaN   \n",
       "1084  https://www.scopus.com/inward/record.uri?eid=2...             NaN   \n",
       "968   https://onlinelibrary.wiley.com/doi/abs/10.100...  e1838 cav.1838   \n",
       "1045  https://www.sciencedirect.com/science/article/...             NaN   \n",
       "1424  https://www.scopus.com/inward/record.uri?eid=2...             NaN   \n",
       "\n",
       "                                               Abstract  \n",
       "794   Podcasting is used in higher education so vari...  \n",
       "1084  This paper presents an experimental investigat...  \n",
       "968   Abstract We present several mixed-reality-base...  \n",
       "1045  Existing camera localisation methods for indoo...  \n",
       "1424  With a view to achieve stable production, nowa...  "
      ]
     },
     "execution_count": 2,
     "metadata": {},
     "output_type": "execute_result"
    }
   ],
   "source": [
    "all_papers = pd.read_csv(\"Combined Papers.csv\")\n",
    "all_papers.sample(5)"
   ]
  },
  {
   "cell_type": "code",
   "execution_count": 3,
   "id": "e8af2949",
   "metadata": {},
   "outputs": [
    {
     "data": {
      "text/plain": [
       "(1435, 6)"
      ]
     },
     "execution_count": 3,
     "metadata": {},
     "output_type": "execute_result"
    }
   ],
   "source": [
    "all_papers.shape"
   ]
  },
  {
   "cell_type": "markdown",
   "id": "a6400ace",
   "metadata": {},
   "source": [
    "#### Remove Duplicates"
   ]
  },
  {
   "cell_type": "code",
   "execution_count": 4,
   "id": "9ddf2956",
   "metadata": {},
   "outputs": [],
   "source": [
    "all_papers.drop_duplicates(subset='Title', inplace=True)  # Remove duplicate titles"
   ]
  },
  {
   "cell_type": "code",
   "execution_count": 5,
   "id": "dc88c9a2",
   "metadata": {},
   "outputs": [
    {
     "data": {
      "text/plain": [
       "(1234, 6)"
      ]
     },
     "execution_count": 5,
     "metadata": {},
     "output_type": "execute_result"
    }
   ],
   "source": [
    "all_papers.shape"
   ]
  },
  {
   "cell_type": "code",
   "execution_count": 6,
   "id": "3a438202",
   "metadata": {},
   "outputs": [
    {
     "data": {
      "text/plain": [
       "Index(['Title', 'Authors', 'DOI', 'URLs', 'Notes', 'Abstract'], dtype='object')"
      ]
     },
     "execution_count": 6,
     "metadata": {},
     "output_type": "execute_result"
    }
   ],
   "source": [
    "all_papers.columns"
   ]
  },
  {
   "cell_type": "markdown",
   "id": "f351f5f0",
   "metadata": {},
   "source": [
    "### Filter out papers "
   ]
  },
  {
   "cell_type": "markdown",
   "id": "541d01c9",
   "metadata": {},
   "source": [
    "#### Title Filtering"
   ]
  },
  {
   "cell_type": "code",
   "execution_count": 27,
   "id": "87a99e9b",
   "metadata": {},
   "outputs": [],
   "source": [
    "\"\"\"\n",
    "We choose two sets of keywords: Any two combination of these keywords makes the paper relevant \n",
    "for this research work\n",
    "\"\"\"\n",
    "title_keywords1 = [\"virtual reality\", \"virtual environment\", \"immersive technology\", \"immersion\", \"augmented reality\"]\n",
    "\n",
    "title_keywords2 = [\"reliability\", \"credibility\", \"trustworthiness\", \"trust\", \"presence\", \"user experience\", \"believability\"]"
   ]
  },
  {
   "cell_type": "code",
   "execution_count": 28,
   "id": "c9d0f081",
   "metadata": {},
   "outputs": [],
   "source": [
    "\"\"\"\n",
    "A method that filters the papers based on keyword presence in the title\"\"\"\n",
    "def filter_title(title):\n",
    "    title_lower = title.lower()\n",
    "    return any(word in title_lower for word in title_keywords1) and \\\n",
    "           any(word in title_lower for word in title_keywords1)\n"
   ]
  },
  {
   "cell_type": "code",
   "execution_count": 29,
   "id": "eae380d8",
   "metadata": {},
   "outputs": [
    {
     "data": {
      "text/html": [
       "<div>\n",
       "<style scoped>\n",
       "    .dataframe tbody tr th:only-of-type {\n",
       "        vertical-align: middle;\n",
       "    }\n",
       "\n",
       "    .dataframe tbody tr th {\n",
       "        vertical-align: top;\n",
       "    }\n",
       "\n",
       "    .dataframe thead th {\n",
       "        text-align: right;\n",
       "    }\n",
       "</style>\n",
       "<table border=\"1\" class=\"dataframe\">\n",
       "  <thead>\n",
       "    <tr style=\"text-align: right;\">\n",
       "      <th></th>\n",
       "      <th>Title</th>\n",
       "      <th>Authors</th>\n",
       "      <th>DOI</th>\n",
       "      <th>URLs</th>\n",
       "      <th>Notes</th>\n",
       "      <th>Abstract</th>\n",
       "    </tr>\n",
       "  </thead>\n",
       "  <tbody>\n",
       "    <tr>\n",
       "      <th>1</th>\n",
       "      <td>Scaffolding Spatial Ability with Augmented Rea...</td>\n",
       "      <td>Wong J,Yu K,Giacaman N</td>\n",
       "      <td>10.1504/ijmlo.2021.111597</td>\n",
       "      <td>https://doi.org/10.1504/ijmlo.2021.111597;http...</td>\n",
       "      <td>NaN</td>\n",
       "      <td>Spatial ability is believed to aid comprehensi...</td>\n",
       "    </tr>\n",
       "    <tr>\n",
       "      <th>2</th>\n",
       "      <td>Augmented and Virtual Reality-Driven Intervent...</td>\n",
       "      <td>Paul Odenigbo I,AlSlaity A,Orji R</td>\n",
       "      <td>10.1145/3505284.3529964</td>\n",
       "      <td>https://doi.org/10.1145/3505284.3529964;http:/...</td>\n",
       "      <td>NaN</td>\n",
       "      <td>Augmented Reality (AR) and Virtual Reality (VR...</td>\n",
       "    </tr>\n",
       "    <tr>\n",
       "      <th>5</th>\n",
       "      <td>Digital Learning Environments - Constructing A...</td>\n",
       "      <td>Somerkoski B,Oliva D,Tarkkanen K,Luimula M</td>\n",
       "      <td>10.1145/3377571.3377615</td>\n",
       "      <td>https://doi.org/10.1145/3377571.3377615;http:/...</td>\n",
       "      <td>NaN</td>\n",
       "      <td>This article gives examples of how the use of ...</td>\n",
       "    </tr>\n",
       "    <tr>\n",
       "      <th>10</th>\n",
       "      <td>CryptoAR Wallet: A Blockchain Cryptocurrency W...</td>\n",
       "      <td>Chen YP,Ko JC</td>\n",
       "      <td>10.1145/3338286.3344386</td>\n",
       "      <td>https://doi.org/10.1145/3338286.3344386;http:/...</td>\n",
       "      <td>NaN</td>\n",
       "      <td>Blockchain technology has recently become popu...</td>\n",
       "    </tr>\n",
       "    <tr>\n",
       "      <th>13</th>\n",
       "      <td>Nonverbal Behavior of Interviewers Influences ...</td>\n",
       "      <td>Wyssenbach T,Zeballos M,Loosli S,Schwaninger A</td>\n",
       "      <td>10.1007/s10055-021-00540-3</td>\n",
       "      <td>https://doi.org/10.1007/s10055-021-00540-3;htt...</td>\n",
       "      <td>NaN</td>\n",
       "      <td>This study examined whether an interviewer’s n...</td>\n",
       "    </tr>\n",
       "    <tr>\n",
       "      <th>...</th>\n",
       "      <td>...</td>\n",
       "      <td>...</td>\n",
       "      <td>...</td>\n",
       "      <td>...</td>\n",
       "      <td>...</td>\n",
       "      <td>...</td>\n",
       "    </tr>\n",
       "    <tr>\n",
       "      <th>1406</th>\n",
       "      <td>Edge computing enabled mobile augmented realit...</td>\n",
       "      <td>Liu J., Zhang Q.</td>\n",
       "      <td>NaN</td>\n",
       "      <td>https://www.scopus.com/inward/record.uri?eid=2...</td>\n",
       "      <td>NaN</td>\n",
       "      <td>Mobile edge computing (MEC) is one of the prom...</td>\n",
       "    </tr>\n",
       "    <tr>\n",
       "      <th>1413</th>\n",
       "      <td>pp. 251-265; Saggio G. &amp; Ferrari M. (2012)-Ne...</td>\n",
       "      <td>eas (2013) Natural Hazards</td>\n",
       "      <td>Papa</td>\n",
       "      <td>M.N.</td>\n",
       "      <td>J.</td>\n",
       "      <td>Dam-break flows of dry granular materials on ...</td>\n",
       "    </tr>\n",
       "    <tr>\n",
       "      <th>1423</th>\n",
       "      <td>Incorporating augmented reality into learning ...</td>\n",
       "      <td>Hsu Y.-S., Lin Y.-H., Yang B., Yang S.-F., Cha...</td>\n",
       "      <td>NaN</td>\n",
       "      <td>https://www.scopus.com/inward/record.uri?eid=2...</td>\n",
       "      <td>NaN</td>\n",
       "      <td>In this paper, we demonstrate how to incorpora...</td>\n",
       "    </tr>\n",
       "    <tr>\n",
       "      <th>1433</th>\n",
       "      <td>Research into the method for construction of i...</td>\n",
       "      <td>Deng J., Zheng X.</td>\n",
       "      <td>10.1117/12.872843</td>\n",
       "      <td>https://www.scopus.com/inward/record.uri?eid=2...</td>\n",
       "      <td>NaN</td>\n",
       "      <td>Nowadays, the development of Digital Earth has...</td>\n",
       "    </tr>\n",
       "    <tr>\n",
       "      <th>1434</th>\n",
       "      <td>Vehicle handling parameters estimation in a vi...</td>\n",
       "      <td>Awan M.A., Hameed A.</td>\n",
       "      <td>10.1115/IMECE2010-40944</td>\n",
       "      <td>https://www.scopus.com/inward/record.uri?eid=2...</td>\n",
       "      <td>NaN</td>\n",
       "      <td>This article illustrates the use of a virtual ...</td>\n",
       "    </tr>\n",
       "  </tbody>\n",
       "</table>\n",
       "<p>539 rows × 6 columns</p>\n",
       "</div>"
      ],
      "text/plain": [
       "                                                  Title  \\\n",
       "1     Scaffolding Spatial Ability with Augmented Rea...   \n",
       "2     Augmented and Virtual Reality-Driven Intervent...   \n",
       "5     Digital Learning Environments - Constructing A...   \n",
       "10    CryptoAR Wallet: A Blockchain Cryptocurrency W...   \n",
       "13    Nonverbal Behavior of Interviewers Influences ...   \n",
       "...                                                 ...   \n",
       "1406  Edge computing enabled mobile augmented realit...   \n",
       "1413   pp. 251-265; Saggio G. & Ferrari M. (2012)-Ne...   \n",
       "1423  Incorporating augmented reality into learning ...   \n",
       "1433  Research into the method for construction of i...   \n",
       "1434  Vehicle handling parameters estimation in a vi...   \n",
       "\n",
       "                                                Authors  \\\n",
       "1                                Wong J,Yu K,Giacaman N   \n",
       "2                     Paul Odenigbo I,AlSlaity A,Orji R   \n",
       "5            Somerkoski B,Oliva D,Tarkkanen K,Luimula M   \n",
       "10                                        Chen YP,Ko JC   \n",
       "13       Wyssenbach T,Zeballos M,Loosli S,Schwaninger A   \n",
       "...                                                 ...   \n",
       "1406                                   Liu J., Zhang Q.   \n",
       "1413                         eas (2013) Natural Hazards   \n",
       "1423  Hsu Y.-S., Lin Y.-H., Yang B., Yang S.-F., Cha...   \n",
       "1433                                  Deng J., Zheng X.   \n",
       "1434                               Awan M.A., Hameed A.   \n",
       "\n",
       "                             DOI  \\\n",
       "1      10.1504/ijmlo.2021.111597   \n",
       "2        10.1145/3505284.3529964   \n",
       "5        10.1145/3377571.3377615   \n",
       "10       10.1145/3338286.3344386   \n",
       "13    10.1007/s10055-021-00540-3   \n",
       "...                          ...   \n",
       "1406                         NaN   \n",
       "1413                        Papa   \n",
       "1423                         NaN   \n",
       "1433           10.1117/12.872843   \n",
       "1434     10.1115/IMECE2010-40944   \n",
       "\n",
       "                                                   URLs Notes  \\\n",
       "1     https://doi.org/10.1504/ijmlo.2021.111597;http...   NaN   \n",
       "2     https://doi.org/10.1145/3505284.3529964;http:/...   NaN   \n",
       "5     https://doi.org/10.1145/3377571.3377615;http:/...   NaN   \n",
       "10    https://doi.org/10.1145/3338286.3344386;http:/...   NaN   \n",
       "13    https://doi.org/10.1007/s10055-021-00540-3;htt...   NaN   \n",
       "...                                                 ...   ...   \n",
       "1406  https://www.scopus.com/inward/record.uri?eid=2...   NaN   \n",
       "1413                                               M.N.    J.   \n",
       "1423  https://www.scopus.com/inward/record.uri?eid=2...   NaN   \n",
       "1433  https://www.scopus.com/inward/record.uri?eid=2...   NaN   \n",
       "1434  https://www.scopus.com/inward/record.uri?eid=2...   NaN   \n",
       "\n",
       "                                               Abstract  \n",
       "1     Spatial ability is believed to aid comprehensi...  \n",
       "2     Augmented Reality (AR) and Virtual Reality (VR...  \n",
       "5     This article gives examples of how the use of ...  \n",
       "10    Blockchain technology has recently become popu...  \n",
       "13    This study examined whether an interviewer’s n...  \n",
       "...                                                 ...  \n",
       "1406  Mobile edge computing (MEC) is one of the prom...  \n",
       "1413   Dam-break flows of dry granular materials on ...  \n",
       "1423  In this paper, we demonstrate how to incorpora...  \n",
       "1433  Nowadays, the development of Digital Earth has...  \n",
       "1434  This article illustrates the use of a virtual ...  \n",
       "\n",
       "[539 rows x 6 columns]"
      ]
     },
     "execution_count": 29,
     "metadata": {},
     "output_type": "execute_result"
    }
   ],
   "source": [
    "# Apply the method\n",
    "filtered_title = all_papers[all_papers['Title'].astype(str).apply(filter_title)]\n",
    "\n",
    "filtered_title"
   ]
  },
  {
   "cell_type": "code",
   "execution_count": 30,
   "id": "262a8dd1",
   "metadata": {},
   "outputs": [
    {
     "data": {
      "text/plain": [
       "(539, 6)"
      ]
     },
     "execution_count": 30,
     "metadata": {},
     "output_type": "execute_result"
    }
   ],
   "source": [
    "filtered_title.shape"
   ]
  },
  {
   "cell_type": "markdown",
   "id": "abe87cef",
   "metadata": {},
   "source": [
    "#### Abstract filtering"
   ]
  },
  {
   "cell_type": "code",
   "execution_count": 88,
   "id": "8fe51f39",
   "metadata": {},
   "outputs": [],
   "source": [
    "# Apply filtering conditions\n",
    "#filtered_abstract = all_papers[all_papers[\"Abstract\"].astype(str).apply(lambda x: sum(keyword.lower() in x.lower() for keyword in keywords) >= 3)]"
   ]
  },
  {
   "cell_type": "code",
   "execution_count": 24,
   "id": "23fbd89f",
   "metadata": {},
   "outputs": [],
   "source": [
    "abstract_keywords1 = [\"virtual reality\", \"virtual environment\", \"immersive technology\", \"immersion\", \"augmented reality\"]\n",
    "abstract_keywords2 = [\"reliability\", \"credibility\", \"trust\", \"trustworthy\", \"believability\", \"believable\"]\n",
    "abstract_keywords3 = [\"presence\",\"user experience\", \"user perception\", \"usability\"]"
   ]
  },
  {
   "cell_type": "code",
   "execution_count": 44,
   "id": "0e3acbe5",
   "metadata": {},
   "outputs": [],
   "source": []
  },
  {
   "cell_type": "code",
   "execution_count": 18,
   "id": "3965f454",
   "metadata": {},
   "outputs": [],
   "source": [
    "def filter_abstract(abstract):\n",
    "    abstract_lower = abstract.lower()\n",
    "    return any(word in abstract_lower for word in abstract_keywords1) and \\\n",
    "           any(word in abstract_lower for word in abstract_keywords2) and \\\n",
    "           any(word in abstract_lower for word in abstract_keywords3)"
   ]
  },
  {
   "cell_type": "code",
   "execution_count": 31,
   "id": "c6bb23b5",
   "metadata": {},
   "outputs": [
    {
     "data": {
      "text/plain": [
       "10    CryptoAR Wallet: A Blockchain Cryptocurrency W...\n",
       "16    How Should Automated Vehicles Interact with Pe...\n",
       "18    A Fluid Human Interactive Proof in Virtual Env...\n",
       "24    AI-Assisted Affective Computing and Spatial Au...\n",
       "25    \"You Better Eat to Survive\": Exploring Coopera...\n",
       "Name: Title, dtype: object"
      ]
     },
     "execution_count": 31,
     "metadata": {},
     "output_type": "execute_result"
    }
   ],
   "source": [
    "filtered_data = filtered_title[filtered_title['Abstract'].astype(str).apply(filter_abstract)]\n",
    "\n",
    "# Print the filtered DataFrame\n",
    "filtered_data[\"Title\"].head()"
   ]
  },
  {
   "cell_type": "code",
   "execution_count": 32,
   "id": "e26db8b6",
   "metadata": {},
   "outputs": [
    {
     "data": {
      "text/plain": [
       "(91, 6)"
      ]
     },
     "execution_count": 32,
     "metadata": {},
     "output_type": "execute_result"
    }
   ],
   "source": [
    "filtered_data.shape"
   ]
  },
  {
   "cell_type": "code",
   "execution_count": 33,
   "id": "5b16680c",
   "metadata": {},
   "outputs": [],
   "source": [
    "filtered_data.to_csv(\"output1.csv\")"
   ]
  }
 ],
 "metadata": {
  "kernelspec": {
   "display_name": "Python 3 (ipykernel)",
   "language": "python",
   "name": "python3"
  },
  "language_info": {
   "codemirror_mode": {
    "name": "ipython",
    "version": 3
   },
   "file_extension": ".py",
   "mimetype": "text/x-python",
   "name": "python",
   "nbconvert_exporter": "python",
   "pygments_lexer": "ipython3",
   "version": "3.10.5"
  }
 },
 "nbformat": 4,
 "nbformat_minor": 5
}
